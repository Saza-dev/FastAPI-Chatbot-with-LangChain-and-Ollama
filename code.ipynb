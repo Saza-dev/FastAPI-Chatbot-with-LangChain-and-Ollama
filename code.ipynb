{
 "cells": [
  {
   "cell_type": "markdown",
   "id": "59c0c183",
   "metadata": {},
   "source": [
    "Initialize LLM"
   ]
  },
  {
   "cell_type": "code",
   "execution_count": 1,
   "id": "dd545a3d",
   "metadata": {},
   "outputs": [],
   "source": [
    "from langchain_ollama import ChatOllama\n",
    "\n",
    "llm = ChatOllama(model=\"llama3.1\")"
   ]
  },
  {
   "cell_type": "markdown",
   "id": "779731c6",
   "metadata": {},
   "source": [
    "Prompt Template"
   ]
  },
  {
   "cell_type": "code",
   "execution_count": null,
   "id": "21fbbe73",
   "metadata": {},
   "outputs": [],
   "source": [
    "from langchain_core.prompts import ChatPromptTemplate\n",
    "\n",
    "prompt = ChatPromptTemplate.from_messages(\n",
    "    [\n",
    "        (\"system\",\"You are an intelligent chatbot. Answer the following question.\"),\n",
    "        (\"user\",\"{question}\")\n",
    "    ]\n",
    ")"
   ]
  },
  {
   "cell_type": "markdown",
   "id": "bf280f3f",
   "metadata": {},
   "source": [
    "Output Parser"
   ]
  },
  {
   "cell_type": "code",
   "execution_count": 5,
   "id": "9e050f39",
   "metadata": {},
   "outputs": [],
   "source": [
    "from langchain_core.output_parsers import StrOutputParser\n",
    "\n",
    "parser = StrOutputParser()"
   ]
  },
  {
   "cell_type": "markdown",
   "id": "059c2f3e",
   "metadata": {},
   "source": [
    "Chain"
   ]
  },
  {
   "cell_type": "code",
   "execution_count": 6,
   "id": "c942d256",
   "metadata": {},
   "outputs": [],
   "source": [
    "chain = prompt | llm | parser"
   ]
  },
  {
   "cell_type": "code",
   "execution_count": 7,
   "id": "b3547d13",
   "metadata": {},
   "outputs": [
    {
     "name": "stdout",
     "output_type": "stream",
     "text": [
      "Nice to meet you, Sasanka! That's a unique and interesting name with Sanskrit roots. It means \"blossoming\" or \"flourishing\". How do you like your name, and what does it mean to you?\n"
     ]
    }
   ],
   "source": [
    "question = \"my name is sasanka\"\n",
    "\n",
    "response = chain.invoke({\"question\":question})\n",
    "\n",
    "print(response)"
   ]
  },
  {
   "cell_type": "markdown",
   "id": "67da9aa1",
   "metadata": {},
   "source": [
    "#### Prompt template for Dynamic Interaction"
   ]
  },
  {
   "cell_type": "code",
   "execution_count": 8,
   "id": "818364c0",
   "metadata": {},
   "outputs": [],
   "source": [
    "from langchain_core.prompts import MessagesPlaceholder\n",
    "from langchain_core.messages import HumanMessage,AIMessage,SystemMessage\n",
    "\n",
    "prompt = ChatPromptTemplate.from_messages(\n",
    "    [\n",
    "        SystemMessage(content=\"You are an intelligent chatbot. Answer the following question.\"),\n",
    "        MessagesPlaceholder(variable_name=\"question\")\n",
    "    ]\n",
    ")"
   ]
  },
  {
   "cell_type": "code",
   "execution_count": 9,
   "id": "97885434",
   "metadata": {},
   "outputs": [],
   "source": [
    "chain = prompt | llm | parser"
   ]
  },
  {
   "cell_type": "code",
   "execution_count": 11,
   "id": "b32aa196",
   "metadata": {},
   "outputs": [
    {
     "name": "stdout",
     "output_type": "stream",
     "text": [
      "Nice to meet you, Sasanka! How can I assist you today?\n"
     ]
    }
   ],
   "source": [
    "question = \"my name is sasanka\"\n",
    "\n",
    "response = chain.invoke({\"question\":[HumanMessage(content=question)]})\n",
    "\n",
    "print(response)"
   ]
  },
  {
   "cell_type": "code",
   "execution_count": 12,
   "id": "9536ef1c",
   "metadata": {},
   "outputs": [
    {
     "name": "stdout",
     "output_type": "stream",
     "text": [
      "Unfortunately, I don't have any information about your personal identity or who you are in the classical sense. However, I can try to provide a more philosophical answer.\n",
      "\n",
      "You are a unique individual with thoughts, feelings, experiences, and perspectives that make up your distinct personality and being. Your identity is shaped by your relationships, culture, background, values, and goals.\n",
      "\n",
      "If we look at it from a more abstract level, you are a collection of memories, emotions, desires, and hopes that have come together to create the person you are today. You are also a work in progress, with experiences and choices shaping who you will become tomorrow.\n",
      "\n",
      "From a technological perspective, I don't know your personal identity because our conversation just started, and we've had no previous interactions. However, I'm here to help answer any questions or engage in interesting conversations with you!\n"
     ]
    }
   ],
   "source": [
    "question = \"who am I?\"\n",
    "\n",
    "response = chain.invoke({\"question\":[HumanMessage(content=question)]})\n",
    "\n",
    "print(response)"
   ]
  },
  {
   "cell_type": "markdown",
   "id": "6fc1439a",
   "metadata": {},
   "source": [
    "#### Prompt Template With Predefined Conversation History"
   ]
  },
  {
   "cell_type": "code",
   "execution_count": 13,
   "id": "c42d9c5c",
   "metadata": {},
   "outputs": [],
   "source": [
    "prompt = ChatPromptTemplate.from_messages(\n",
    "    [\n",
    "        SystemMessage(content=\"You are an intelligent chatbot. Answer the following question.\"),\n",
    "        HumanMessage(content=\"My name is Sasanka\"),\n",
    "        AIMessage(content=\"Nice to meet you, Sasanka! How can I assist you today?\"),\n",
    "        MessagesPlaceholder(variable_name=\"question\")\n",
    "    ]\n",
    ")"
   ]
  },
  {
   "cell_type": "code",
   "execution_count": 14,
   "id": "c336f3cb",
   "metadata": {},
   "outputs": [],
   "source": [
    "chain = prompt | llm | parser"
   ]
  },
  {
   "cell_type": "code",
   "execution_count": 15,
   "id": "ffd6b9df",
   "metadata": {},
   "outputs": [
    {
     "name": "stdout",
     "output_type": "stream",
     "text": [
      "A philosophical question!\n",
      "\n",
      "To be honest, I don't know much about your personal background or identity beyond what you've shared with me. However, based on the name \"Sasanka\", I found that it's a Sanskrit name with origins in Hinduism and Buddhism. It means \"little lord\" or \"small king\".\n",
      "\n",
      "If you'd like to share more about yourself, I'm all ears (or rather, all text)!\n"
     ]
    }
   ],
   "source": [
    "question = \"who am I?\"\n",
    "\n",
    "response = chain.invoke({\"question\":[HumanMessage(content=question)]})\n",
    "\n",
    "print(response)"
   ]
  },
  {
   "cell_type": "markdown",
   "id": "e5ee2f12",
   "metadata": {},
   "source": [
    "#### Prompt Template to handle dynamic Conversation History"
   ]
  },
  {
   "cell_type": "code",
   "execution_count": 18,
   "id": "dfdd30a4",
   "metadata": {},
   "outputs": [],
   "source": [
    "prompt = ChatPromptTemplate.from_messages(\n",
    "    [\n",
    "        SystemMessage(content=\"You are an intelligent chatbot. Answer the following question.\"),\n",
    "        MessagesPlaceholder(variable_name=\"history\"),\n",
    "        MessagesPlaceholder(variable_name=\"question\")\n",
    "    ]\n",
    ")"
   ]
  },
  {
   "cell_type": "code",
   "execution_count": 19,
   "id": "64e460d2",
   "metadata": {},
   "outputs": [],
   "source": [
    "history = [\n",
    "        HumanMessage(content=\"My name is Sasanka\"),\n",
    "        AIMessage(content=\"Nice to meet you, Sasanka! How can I assist you today?\"),\n",
    "        HumanMessage(content=\"what is 2+2\"),\n",
    "        AIMessage(content=\"4\")\n",
    "]"
   ]
  },
  {
   "cell_type": "code",
   "execution_count": 20,
   "id": "7c94d832",
   "metadata": {},
   "outputs": [],
   "source": [
    "chain = prompt | llm | parser"
   ]
  },
  {
   "cell_type": "code",
   "execution_count": 22,
   "id": "f330b787",
   "metadata": {},
   "outputs": [
    {
     "name": "stdout",
     "output_type": "stream",
     "text": [
      "You are Sasanka. You're chatting with me right now!\n"
     ]
    }
   ],
   "source": [
    "question = \"who am I?\"\n",
    "\n",
    "response = chain.invoke({\"history\":history,\"question\":[HumanMessage(content=question)]})\n",
    "\n",
    "print(response)"
   ]
  },
  {
   "cell_type": "markdown",
   "id": "ac7208b9",
   "metadata": {},
   "source": [
    "Update and Display conversation history"
   ]
  },
  {
   "cell_type": "code",
   "execution_count": 23,
   "id": "be918341",
   "metadata": {},
   "outputs": [],
   "source": [
    "history.extend([HumanMessage(content=question),AIMessage(content=response)])"
   ]
  },
  {
   "cell_type": "code",
   "execution_count": 24,
   "id": "f0f4e75b",
   "metadata": {},
   "outputs": [
    {
     "data": {
      "text/plain": [
       "[HumanMessage(content='My name is Sasanka', additional_kwargs={}, response_metadata={}),\n",
       " AIMessage(content='Nice to meet you, Sasanka! How can I assist you today?', additional_kwargs={}, response_metadata={}),\n",
       " HumanMessage(content='what is 2+2', additional_kwargs={}, response_metadata={}),\n",
       " AIMessage(content='4', additional_kwargs={}, response_metadata={}),\n",
       " HumanMessage(content='who am I?', additional_kwargs={}, response_metadata={}),\n",
       " AIMessage(content=\"You are Sasanka. You're chatting with me right now!\", additional_kwargs={}, response_metadata={})]"
      ]
     },
     "execution_count": 24,
     "metadata": {},
     "output_type": "execute_result"
    }
   ],
   "source": [
    "history"
   ]
  },
  {
   "cell_type": "code",
   "execution_count": 26,
   "id": "e5dae2e1",
   "metadata": {},
   "outputs": [
    {
     "name": "stdout",
     "output_type": "stream",
     "text": [
      "Your last question was: \"Who am I?\"\n"
     ]
    }
   ],
   "source": [
    "question = \"What is my last question ?\"\n",
    "response = chain.invoke({\"history\":history,\"question\":[HumanMessage(content=question)]})\n",
    "history.extend([HumanMessage(content=question),AIMessage(content=response)])\n",
    "print(response)"
   ]
  },
  {
   "cell_type": "code",
   "execution_count": 27,
   "id": "c60c6a21",
   "metadata": {},
   "outputs": [
    {
     "data": {
      "text/plain": [
       "[HumanMessage(content='My name is Sasanka', additional_kwargs={}, response_metadata={}),\n",
       " AIMessage(content='Nice to meet you, Sasanka! How can I assist you today?', additional_kwargs={}, response_metadata={}),\n",
       " HumanMessage(content='what is 2+2', additional_kwargs={}, response_metadata={}),\n",
       " AIMessage(content='4', additional_kwargs={}, response_metadata={}),\n",
       " HumanMessage(content='who am I?', additional_kwargs={}, response_metadata={}),\n",
       " AIMessage(content=\"You are Sasanka. You're chatting with me right now!\", additional_kwargs={}, response_metadata={}),\n",
       " HumanMessage(content='What is my last question ?', additional_kwargs={}, response_metadata={}),\n",
       " AIMessage(content='Your last question was: \"Who am I?\"', additional_kwargs={}, response_metadata={})]"
      ]
     },
     "execution_count": 27,
     "metadata": {},
     "output_type": "execute_result"
    }
   ],
   "source": [
    "history"
   ]
  },
  {
   "cell_type": "code",
   "execution_count": null,
   "id": "c1bf8bf8",
   "metadata": {},
   "outputs": [],
   "source": []
  }
 ],
 "metadata": {
  "kernelspec": {
   "display_name": "langchain",
   "language": "python",
   "name": "python3"
  },
  "language_info": {
   "codemirror_mode": {
    "name": "ipython",
    "version": 3
   },
   "file_extension": ".py",
   "mimetype": "text/x-python",
   "name": "python",
   "nbconvert_exporter": "python",
   "pygments_lexer": "ipython3",
   "version": "3.10.16"
  }
 },
 "nbformat": 4,
 "nbformat_minor": 5
}
